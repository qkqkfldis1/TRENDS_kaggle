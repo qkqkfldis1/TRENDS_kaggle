{
 "cells": [
  {
   "cell_type": "code",
   "execution_count": 8,
   "metadata": {},
   "outputs": [],
   "source": [
    "import os\n",
    "import h5py\n",
    "import numpy as np\n",
    "import pandas as pd\n",
    "from torch.utils.data import Dataset\n",
    "from sklearn.ensemble import RandomForestRegressor\n",
    "from sklearn.model_selection import GridSearchCV, KFold,StratifiedKFold, GroupKFold, KFold\n",
    "import nilearn as nl\n",
    "import torch\n",
    "import random\n",
    "from tqdm import tqdm\n",
    "import itertools\n",
    "from sklearn.model_selection import StratifiedShuffleSplit\n",
    "from sklearn.preprocessing import PolynomialFeatures\n",
    "\n",
    "import monai\n",
    "from monai.transforms import \\\n",
    "    LoadNifti, LoadNiftid, AddChanneld, ScaleIntensityRanged, \\\n",
    "    Rand3DElasticd, RandAffined, \\\n",
    "    Spacingd, Orientationd\n",
    "\n",
    "root = r'/home/youhanlee/project/trends/input/'\n",
    "root = r'/home/iclab/projects/Trends/input/'\n",
    "\n",
    "train = pd.read_csv('{}/train_scores.csv'.format(root)).sort_values(by='Id')\n",
    "loadings = pd.read_csv('{}/loading.csv'.format(root))\n",
    "sample = pd.read_csv('{}/sample_submission.csv'.format(root))\n",
    "reveal = pd.read_csv('{}/reveal_ID_site2.csv'.format(root))\n",
    "ICN = pd.read_csv('{}/ICN_numbers.csv'.format(root))\n",
    "fnc = pd.read_csv('{}/fnc.csv'.format(root))"
   ]
  },
  {
   "cell_type": "code",
   "execution_count": 3,
   "metadata": {},
   "outputs": [
    {
     "data": {
      "text/plain": [
       "(11754, 27)"
      ]
     },
     "execution_count": 3,
     "metadata": {},
     "output_type": "execute_result"
    }
   ],
   "source": [
    "loadings.shape"
   ]
  },
  {
   "cell_type": "code",
   "execution_count": 5,
   "metadata": {},
   "outputs": [
    {
     "data": {
      "text/html": [
       "<div>\n",
       "<style scoped>\n",
       "    .dataframe tbody tr th:only-of-type {\n",
       "        vertical-align: middle;\n",
       "    }\n",
       "\n",
       "    .dataframe tbody tr th {\n",
       "        vertical-align: top;\n",
       "    }\n",
       "\n",
       "    .dataframe thead th {\n",
       "        text-align: right;\n",
       "    }\n",
       "</style>\n",
       "<table border=\"1\" class=\"dataframe\">\n",
       "  <thead>\n",
       "    <tr style=\"text-align: right;\">\n",
       "      <th></th>\n",
       "      <th>Id</th>\n",
       "      <th>IC_01</th>\n",
       "      <th>IC_07</th>\n",
       "      <th>IC_05</th>\n",
       "      <th>IC_16</th>\n",
       "      <th>IC_26</th>\n",
       "      <th>IC_06</th>\n",
       "      <th>IC_10</th>\n",
       "      <th>IC_09</th>\n",
       "      <th>IC_18</th>\n",
       "      <th>...</th>\n",
       "      <th>IC_08</th>\n",
       "      <th>IC_03</th>\n",
       "      <th>IC_21</th>\n",
       "      <th>IC_28</th>\n",
       "      <th>IC_11</th>\n",
       "      <th>IC_20</th>\n",
       "      <th>IC_30</th>\n",
       "      <th>IC_22</th>\n",
       "      <th>IC_29</th>\n",
       "      <th>IC_14</th>\n",
       "    </tr>\n",
       "  </thead>\n",
       "  <tbody>\n",
       "    <tr>\n",
       "      <th>0</th>\n",
       "      <td>10001</td>\n",
       "      <td>0.006070</td>\n",
       "      <td>0.014466</td>\n",
       "      <td>0.004136</td>\n",
       "      <td>0.000658</td>\n",
       "      <td>-0.002742</td>\n",
       "      <td>0.005033</td>\n",
       "      <td>0.016720</td>\n",
       "      <td>0.003484</td>\n",
       "      <td>0.001797</td>\n",
       "      <td>...</td>\n",
       "      <td>0.018246</td>\n",
       "      <td>0.023711</td>\n",
       "      <td>0.009177</td>\n",
       "      <td>-0.013929</td>\n",
       "      <td>0.030696</td>\n",
       "      <td>0.010496</td>\n",
       "      <td>0.002892</td>\n",
       "      <td>-0.023235</td>\n",
       "      <td>0.022177</td>\n",
       "      <td>0.017192</td>\n",
       "    </tr>\n",
       "    <tr>\n",
       "      <th>1</th>\n",
       "      <td>10002</td>\n",
       "      <td>0.009087</td>\n",
       "      <td>0.009291</td>\n",
       "      <td>0.007049</td>\n",
       "      <td>-0.002076</td>\n",
       "      <td>-0.002227</td>\n",
       "      <td>0.004605</td>\n",
       "      <td>0.012277</td>\n",
       "      <td>0.002946</td>\n",
       "      <td>0.004086</td>\n",
       "      <td>...</td>\n",
       "      <td>0.014635</td>\n",
       "      <td>0.022556</td>\n",
       "      <td>0.012004</td>\n",
       "      <td>-0.011814</td>\n",
       "      <td>0.022479</td>\n",
       "      <td>0.005739</td>\n",
       "      <td>0.002880</td>\n",
       "      <td>-0.016609</td>\n",
       "      <td>0.025543</td>\n",
       "      <td>0.014524</td>\n",
       "    </tr>\n",
       "    <tr>\n",
       "      <th>2</th>\n",
       "      <td>10003</td>\n",
       "      <td>0.008151</td>\n",
       "      <td>0.014684</td>\n",
       "      <td>0.010444</td>\n",
       "      <td>-0.005293</td>\n",
       "      <td>-0.002913</td>\n",
       "      <td>0.015042</td>\n",
       "      <td>0.017745</td>\n",
       "      <td>0.003930</td>\n",
       "      <td>-0.008021</td>\n",
       "      <td>...</td>\n",
       "      <td>0.019565</td>\n",
       "      <td>0.030616</td>\n",
       "      <td>0.018184</td>\n",
       "      <td>-0.010469</td>\n",
       "      <td>0.029799</td>\n",
       "      <td>0.015435</td>\n",
       "      <td>0.005211</td>\n",
       "      <td>-0.028882</td>\n",
       "      <td>0.031427</td>\n",
       "      <td>0.018164</td>\n",
       "    </tr>\n",
       "    <tr>\n",
       "      <th>3</th>\n",
       "      <td>10004</td>\n",
       "      <td>0.004675</td>\n",
       "      <td>0.000957</td>\n",
       "      <td>0.006154</td>\n",
       "      <td>-0.000429</td>\n",
       "      <td>-0.001222</td>\n",
       "      <td>0.011755</td>\n",
       "      <td>0.013010</td>\n",
       "      <td>0.000193</td>\n",
       "      <td>0.008075</td>\n",
       "      <td>...</td>\n",
       "      <td>0.002658</td>\n",
       "      <td>0.022266</td>\n",
       "      <td>0.005956</td>\n",
       "      <td>-0.010595</td>\n",
       "      <td>0.024078</td>\n",
       "      <td>-0.000319</td>\n",
       "      <td>0.005866</td>\n",
       "      <td>-0.015182</td>\n",
       "      <td>0.024476</td>\n",
       "      <td>0.014760</td>\n",
       "    </tr>\n",
       "    <tr>\n",
       "      <th>4</th>\n",
       "      <td>10005</td>\n",
       "      <td>-0.000398</td>\n",
       "      <td>0.006878</td>\n",
       "      <td>0.009051</td>\n",
       "      <td>0.000369</td>\n",
       "      <td>0.000336</td>\n",
       "      <td>0.010679</td>\n",
       "      <td>0.010352</td>\n",
       "      <td>0.003637</td>\n",
       "      <td>0.004180</td>\n",
       "      <td>...</td>\n",
       "      <td>0.009702</td>\n",
       "      <td>0.017257</td>\n",
       "      <td>0.005454</td>\n",
       "      <td>-0.008591</td>\n",
       "      <td>0.019416</td>\n",
       "      <td>0.000786</td>\n",
       "      <td>0.002692</td>\n",
       "      <td>-0.019814</td>\n",
       "      <td>0.017105</td>\n",
       "      <td>0.013316</td>\n",
       "    </tr>\n",
       "  </tbody>\n",
       "</table>\n",
       "<p>5 rows × 27 columns</p>\n",
       "</div>"
      ],
      "text/plain": [
       "      Id     IC_01     IC_07     IC_05     IC_16     IC_26     IC_06  \\\n",
       "0  10001  0.006070  0.014466  0.004136  0.000658 -0.002742  0.005033   \n",
       "1  10002  0.009087  0.009291  0.007049 -0.002076 -0.002227  0.004605   \n",
       "2  10003  0.008151  0.014684  0.010444 -0.005293 -0.002913  0.015042   \n",
       "3  10004  0.004675  0.000957  0.006154 -0.000429 -0.001222  0.011755   \n",
       "4  10005 -0.000398  0.006878  0.009051  0.000369  0.000336  0.010679   \n",
       "\n",
       "      IC_10     IC_09     IC_18  ...     IC_08     IC_03     IC_21     IC_28  \\\n",
       "0  0.016720  0.003484  0.001797  ...  0.018246  0.023711  0.009177 -0.013929   \n",
       "1  0.012277  0.002946  0.004086  ...  0.014635  0.022556  0.012004 -0.011814   \n",
       "2  0.017745  0.003930 -0.008021  ...  0.019565  0.030616  0.018184 -0.010469   \n",
       "3  0.013010  0.000193  0.008075  ...  0.002658  0.022266  0.005956 -0.010595   \n",
       "4  0.010352  0.003637  0.004180  ...  0.009702  0.017257  0.005454 -0.008591   \n",
       "\n",
       "      IC_11     IC_20     IC_30     IC_22     IC_29     IC_14  \n",
       "0  0.030696  0.010496  0.002892 -0.023235  0.022177  0.017192  \n",
       "1  0.022479  0.005739  0.002880 -0.016609  0.025543  0.014524  \n",
       "2  0.029799  0.015435  0.005211 -0.028882  0.031427  0.018164  \n",
       "3  0.024078 -0.000319  0.005866 -0.015182  0.024476  0.014760  \n",
       "4  0.019416  0.000786  0.002692 -0.019814  0.017105  0.013316  \n",
       "\n",
       "[5 rows x 27 columns]"
      ]
     },
     "execution_count": 5,
     "metadata": {},
     "output_type": "execute_result"
    }
   ],
   "source": [
    "loadings.head()"
   ]
  },
  {
   "cell_type": "code",
   "execution_count": null,
   "metadata": {},
   "outputs": [],
   "source": []
  },
  {
   "cell_type": "code",
   "execution_count": 29,
   "metadata": {},
   "outputs": [],
   "source": [
    "good_feats = [f'IC_{feat}' for feat in ['15', '22', '06', '21', '04', '11', '10', '16']]"
   ]
  },
  {
   "cell_type": "code",
   "execution_count": 30,
   "metadata": {},
   "outputs": [],
   "source": [
    "fnc = pd.read_csv('{}/fnc.csv'.format(root))\n",
    "features = ('age', 'domain1_var1', 'domain1_var2', 'domain2_var1', 'domain2_var2')\n",
    "data = pd.merge(loadings, train, on='Id').dropna()"
   ]
  },
  {
   "cell_type": "code",
   "execution_count": 31,
   "metadata": {},
   "outputs": [],
   "source": [
    "comb = itertools.combinations(good_feats, 2)\n",
    "for col1, col2 in comb:\n",
    "    data[f'{col1}_x_{col2}'] = data[col1] * data[col2]\n",
    "    data[f'{col1}_+_{col2}'] = data[col1] + data[col2]"
   ]
  },
  {
   "cell_type": "code",
   "execution_count": 32,
   "metadata": {},
   "outputs": [],
   "source": [
    "id_train = list(data.Id)\n",
    "fea_train = np.asarray(data.drop(list(features), axis=1).drop('Id', axis=1))\n",
    "lbl_train = np.asarray(data[list(features)])"
   ]
  },
  {
   "cell_type": "code",
   "execution_count": 33,
   "metadata": {},
   "outputs": [
    {
     "data": {
      "text/plain": [
       "(5434, 82)"
      ]
     },
     "execution_count": 33,
     "metadata": {},
     "output_type": "execute_result"
    }
   ],
   "source": [
    "fea_train.shape"
   ]
  },
  {
   "cell_type": "code",
   "execution_count": null,
   "metadata": {},
   "outputs": [],
   "source": []
  },
  {
   "cell_type": "code",
   "execution_count": null,
   "metadata": {},
   "outputs": [],
   "source": []
  },
  {
   "cell_type": "code",
   "execution_count": null,
   "metadata": {},
   "outputs": [],
   "source": []
  },
  {
   "cell_type": "code",
   "execution_count": null,
   "metadata": {},
   "outputs": [],
   "source": []
  },
  {
   "cell_type": "code",
   "execution_count": null,
   "metadata": {},
   "outputs": [],
   "source": []
  }
 ],
 "metadata": {
  "kernelspec": {
   "display_name": "trends",
   "language": "python",
   "name": "trends"
  },
  "language_info": {
   "codemirror_mode": {
    "name": "ipython",
    "version": 3
   },
   "file_extension": ".py",
   "mimetype": "text/x-python",
   "name": "python",
   "nbconvert_exporter": "python",
   "pygments_lexer": "ipython3",
   "version": "3.7.7"
  }
 },
 "nbformat": 4,
 "nbformat_minor": 4
}
