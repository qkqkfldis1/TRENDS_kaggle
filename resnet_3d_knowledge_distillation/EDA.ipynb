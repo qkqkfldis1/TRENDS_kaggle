{
 "cells": [
  {
   "cell_type": "code",
   "execution_count": 1,
   "metadata": {},
   "outputs": [],
   "source": [
    "import h5py\n",
    "\n",
    "import numpy as np\n",
    "import pandas as pd\n",
    "\n",
    "from glob import glob\n",
    "\n",
    "import matplotlib.pyplot as plt\n",
    "%matplotlib inline"
   ]
  },
  {
   "cell_type": "code",
   "execution_count": 2,
   "metadata": {},
   "outputs": [],
   "source": [
    "# Age and 4 anonymized targets, 443 partially missed observations\n",
    "train_scores = pd.read_csv('../input/train_scores.csv').sort_values(by='Id')\n",
    "\n",
    "# Somehow preprocessed morphometry (after group ICA), simplest feature set\n",
    "loadings = pd.read_csv('../input/loading.csv')\n",
    "\n",
    "# resting-state fMRI Functional Network Connectivity matrices. \n",
    "# In simple setting, these are cross-correlations (in this case something more sophisticated) between\n",
    "# every pair of brain regions presented in train/test *.mat\n",
    "fnc = pd.read_csv('../input/fnc.csv')\n",
    "\n",
    "# Submit Age and 4 scores for test ids\n",
    "sample = pd.read_csv('../input/sample_submission.csv')\n",
    "\n",
    "# List of some of subjects from test set whose data were collected from different scanner\n",
    "reveal = pd.read_csv('../input/reveal_ID_site2.csv')\n",
    "\n",
    "# 53 unique numbers between 2 and 99 (somehow related to brain regions? regions keys?)\n",
    "icn_nums = pd.read_csv('../input/ICN_numbers.csv')\n"
   ]
  },
  {
   "cell_type": "code",
   "execution_count": 25,
   "metadata": {},
   "outputs": [],
   "source": [
    "degree = pd.read_csv('../input/degree.csv')"
   ]
  },
  {
   "cell_type": "code",
   "execution_count": 26,
   "metadata": {},
   "outputs": [],
   "source": [
    "degree_columns = degree.columns[:-1]\n",
    "\n",
    "degree[degree_columns] /= 10000"
   ]
  },
  {
   "cell_type": "code",
   "execution_count": 28,
   "metadata": {},
   "outputs": [],
   "source": [
    "fnc = pd.read_csv('../input/fnc.csv')\n",
    "fnc_columns = fnc.columns[1:]\n",
    "fnc[fnc_columns] /= 500"
   ]
  },
  {
   "cell_type": "code",
   "execution_count": 29,
   "metadata": {},
   "outputs": [
    {
     "data": {
      "text/plain": [
       "0.00198444108"
      ]
     },
     "execution_count": 29,
     "metadata": {},
     "output_type": "execute_result"
    }
   ],
   "source": [
    "fnc.iloc[:, 1:].max().max()"
   ]
  },
  {
   "cell_type": "code",
   "execution_count": 30,
   "metadata": {},
   "outputs": [
    {
     "data": {
      "text/plain": [
       "-0.0019217890600000001"
      ]
     },
     "execution_count": 30,
     "metadata": {},
     "output_type": "execute_result"
    }
   ],
   "source": [
    "fnc.iloc[:, 1:].min().min()"
   ]
  },
  {
   "cell_type": "code",
   "execution_count": 31,
   "metadata": {},
   "outputs": [
    {
     "data": {
      "text/plain": [
       "0.002191081879"
      ]
     },
     "execution_count": 31,
     "metadata": {},
     "output_type": "execute_result"
    }
   ],
   "source": [
    "degree.iloc[:, :-1].max().max()"
   ]
  },
  {
   "cell_type": "code",
   "execution_count": 32,
   "metadata": {},
   "outputs": [
    {
     "data": {
      "text/plain": [
       "-0.002281362082"
      ]
     },
     "execution_count": 32,
     "metadata": {},
     "output_type": "execute_result"
    }
   ],
   "source": [
    "degree.iloc[:, :-1].min().min()"
   ]
  },
  {
   "cell_type": "code",
   "execution_count": 33,
   "metadata": {},
   "outputs": [
    {
     "data": {
      "text/plain": [
       "(11754, 54)"
      ]
     },
     "execution_count": 33,
     "metadata": {},
     "output_type": "execute_result"
    }
   ],
   "source": [
    "degree.shape"
   ]
  },
  {
   "cell_type": "code",
   "execution_count": 34,
   "metadata": {},
   "outputs": [],
   "source": [
    "data = pd.merge(degree, train_scores, on='Id').dropna()"
   ]
  },
  {
   "cell_type": "code",
   "execution_count": 37,
   "metadata": {},
   "outputs": [
    {
     "data": {
      "text/html": [
       "<div>\n",
       "<style scoped>\n",
       "    .dataframe tbody tr th:only-of-type {\n",
       "        vertical-align: middle;\n",
       "    }\n",
       "\n",
       "    .dataframe tbody tr th {\n",
       "        vertical-align: top;\n",
       "    }\n",
       "\n",
       "    .dataframe thead th {\n",
       "        text-align: right;\n",
       "    }\n",
       "</style>\n",
       "<table border=\"1\" class=\"dataframe\">\n",
       "  <thead>\n",
       "    <tr style=\"text-align: right;\">\n",
       "      <th></th>\n",
       "      <th>degree_2</th>\n",
       "      <th>degree_3</th>\n",
       "      <th>degree_4</th>\n",
       "      <th>degree_5</th>\n",
       "      <th>degree_7</th>\n",
       "      <th>degree_8</th>\n",
       "      <th>degree_9</th>\n",
       "      <th>degree_11</th>\n",
       "      <th>degree_12</th>\n",
       "      <th>degree_13</th>\n",
       "      <th>...</th>\n",
       "      <th>degree_94</th>\n",
       "      <th>degree_96</th>\n",
       "      <th>degree_98</th>\n",
       "      <th>degree_99</th>\n",
       "      <th>Id</th>\n",
       "      <th>age</th>\n",
       "      <th>domain1_var1</th>\n",
       "      <th>domain1_var2</th>\n",
       "      <th>domain2_var1</th>\n",
       "      <th>domain2_var2</th>\n",
       "    </tr>\n",
       "  </thead>\n",
       "  <tbody>\n",
       "    <tr>\n",
       "      <th>0</th>\n",
       "      <td>0.000070</td>\n",
       "      <td>-0.000046</td>\n",
       "      <td>-0.000217</td>\n",
       "      <td>-0.000118</td>\n",
       "      <td>-0.000197</td>\n",
       "      <td>-0.000091</td>\n",
       "      <td>0.000096</td>\n",
       "      <td>0.000004</td>\n",
       "      <td>-0.000048</td>\n",
       "      <td>0.000125</td>\n",
       "      <td>...</td>\n",
       "      <td>-0.000186</td>\n",
       "      <td>-0.000152</td>\n",
       "      <td>-0.000071</td>\n",
       "      <td>-0.000038</td>\n",
       "      <td>10001</td>\n",
       "      <td>57.436077</td>\n",
       "      <td>30.571975</td>\n",
       "      <td>62.553736</td>\n",
       "      <td>53.325130</td>\n",
       "      <td>51.427998</td>\n",
       "    </tr>\n",
       "    <tr>\n",
       "      <th>1</th>\n",
       "      <td>-0.000257</td>\n",
       "      <td>-0.000009</td>\n",
       "      <td>-0.000175</td>\n",
       "      <td>0.000199</td>\n",
       "      <td>0.000084</td>\n",
       "      <td>0.000134</td>\n",
       "      <td>-0.000072</td>\n",
       "      <td>-0.000143</td>\n",
       "      <td>0.000240</td>\n",
       "      <td>0.000062</td>\n",
       "      <td>...</td>\n",
       "      <td>-0.000347</td>\n",
       "      <td>-0.000320</td>\n",
       "      <td>0.000057</td>\n",
       "      <td>0.000134</td>\n",
       "      <td>10002</td>\n",
       "      <td>59.580851</td>\n",
       "      <td>50.969456</td>\n",
       "      <td>67.470628</td>\n",
       "      <td>60.651856</td>\n",
       "      <td>58.311361</td>\n",
       "    </tr>\n",
       "    <tr>\n",
       "      <th>2</th>\n",
       "      <td>-0.000057</td>\n",
       "      <td>0.000065</td>\n",
       "      <td>-0.000122</td>\n",
       "      <td>-0.000023</td>\n",
       "      <td>0.000014</td>\n",
       "      <td>0.000042</td>\n",
       "      <td>0.000049</td>\n",
       "      <td>0.000059</td>\n",
       "      <td>0.000034</td>\n",
       "      <td>-0.000015</td>\n",
       "      <td>...</td>\n",
       "      <td>-0.000187</td>\n",
       "      <td>-0.000196</td>\n",
       "      <td>-0.000017</td>\n",
       "      <td>0.000028</td>\n",
       "      <td>10004</td>\n",
       "      <td>71.413018</td>\n",
       "      <td>53.152498</td>\n",
       "      <td>58.012103</td>\n",
       "      <td>52.418389</td>\n",
       "      <td>62.536641</td>\n",
       "    </tr>\n",
       "    <tr>\n",
       "      <th>4</th>\n",
       "      <td>-0.000331</td>\n",
       "      <td>-0.000374</td>\n",
       "      <td>-0.000012</td>\n",
       "      <td>0.000049</td>\n",
       "      <td>0.000066</td>\n",
       "      <td>0.000109</td>\n",
       "      <td>-0.000340</td>\n",
       "      <td>-0.000405</td>\n",
       "      <td>0.000026</td>\n",
       "      <td>0.000131</td>\n",
       "      <td>...</td>\n",
       "      <td>-0.000157</td>\n",
       "      <td>0.000045</td>\n",
       "      <td>0.000088</td>\n",
       "      <td>0.000028</td>\n",
       "      <td>10007</td>\n",
       "      <td>38.617381</td>\n",
       "      <td>49.197021</td>\n",
       "      <td>65.674285</td>\n",
       "      <td>40.151376</td>\n",
       "      <td>34.096421</td>\n",
       "    </tr>\n",
       "    <tr>\n",
       "      <th>5</th>\n",
       "      <td>-0.000174</td>\n",
       "      <td>-0.000104</td>\n",
       "      <td>-0.000090</td>\n",
       "      <td>-0.000171</td>\n",
       "      <td>-0.000049</td>\n",
       "      <td>-0.000150</td>\n",
       "      <td>-0.000080</td>\n",
       "      <td>-0.000061</td>\n",
       "      <td>-0.000141</td>\n",
       "      <td>-0.000064</td>\n",
       "      <td>...</td>\n",
       "      <td>-0.000123</td>\n",
       "      <td>-0.000083</td>\n",
       "      <td>-0.000118</td>\n",
       "      <td>-0.000008</td>\n",
       "      <td>10008</td>\n",
       "      <td>35.326582</td>\n",
       "      <td>15.769168</td>\n",
       "      <td>65.782269</td>\n",
       "      <td>44.643805</td>\n",
       "      <td>50.448485</td>\n",
       "    </tr>\n",
       "    <tr>\n",
       "      <th>...</th>\n",
       "      <td>...</td>\n",
       "      <td>...</td>\n",
       "      <td>...</td>\n",
       "      <td>...</td>\n",
       "      <td>...</td>\n",
       "      <td>...</td>\n",
       "      <td>...</td>\n",
       "      <td>...</td>\n",
       "      <td>...</td>\n",
       "      <td>...</td>\n",
       "      <td>...</td>\n",
       "      <td>...</td>\n",
       "      <td>...</td>\n",
       "      <td>...</td>\n",
       "      <td>...</td>\n",
       "      <td>...</td>\n",
       "      <td>...</td>\n",
       "      <td>...</td>\n",
       "      <td>...</td>\n",
       "      <td>...</td>\n",
       "      <td>...</td>\n",
       "    </tr>\n",
       "    <tr>\n",
       "      <th>5872</th>\n",
       "      <td>-0.000048</td>\n",
       "      <td>-0.000064</td>\n",
       "      <td>-0.000045</td>\n",
       "      <td>-0.000143</td>\n",
       "      <td>-0.000180</td>\n",
       "      <td>-0.000113</td>\n",
       "      <td>-0.000091</td>\n",
       "      <td>-0.000039</td>\n",
       "      <td>-0.000017</td>\n",
       "      <td>-0.000011</td>\n",
       "      <td>...</td>\n",
       "      <td>-0.000130</td>\n",
       "      <td>-0.000135</td>\n",
       "      <td>-0.000003</td>\n",
       "      <td>0.000016</td>\n",
       "      <td>21746</td>\n",
       "      <td>14.257265</td>\n",
       "      <td>21.358872</td>\n",
       "      <td>61.165998</td>\n",
       "      <td>51.778483</td>\n",
       "      <td>54.640179</td>\n",
       "    </tr>\n",
       "    <tr>\n",
       "      <th>5873</th>\n",
       "      <td>-0.000101</td>\n",
       "      <td>-0.000044</td>\n",
       "      <td>-0.000148</td>\n",
       "      <td>-0.000073</td>\n",
       "      <td>-0.000072</td>\n",
       "      <td>-0.000194</td>\n",
       "      <td>-0.000014</td>\n",
       "      <td>-0.000075</td>\n",
       "      <td>-0.000073</td>\n",
       "      <td>-0.000102</td>\n",
       "      <td>...</td>\n",
       "      <td>-0.000029</td>\n",
       "      <td>0.000009</td>\n",
       "      <td>-0.000114</td>\n",
       "      <td>-0.000151</td>\n",
       "      <td>21747</td>\n",
       "      <td>55.456978</td>\n",
       "      <td>68.169675</td>\n",
       "      <td>29.907995</td>\n",
       "      <td>55.349257</td>\n",
       "      <td>54.019517</td>\n",
       "    </tr>\n",
       "    <tr>\n",
       "      <th>5874</th>\n",
       "      <td>-0.000151</td>\n",
       "      <td>-0.000253</td>\n",
       "      <td>-0.000120</td>\n",
       "      <td>-0.000117</td>\n",
       "      <td>-0.000152</td>\n",
       "      <td>-0.000071</td>\n",
       "      <td>-0.000201</td>\n",
       "      <td>-0.000251</td>\n",
       "      <td>-0.000012</td>\n",
       "      <td>0.000047</td>\n",
       "      <td>...</td>\n",
       "      <td>-0.000099</td>\n",
       "      <td>-0.000140</td>\n",
       "      <td>-0.000111</td>\n",
       "      <td>0.000064</td>\n",
       "      <td>21750</td>\n",
       "      <td>48.948756</td>\n",
       "      <td>55.114811</td>\n",
       "      <td>60.878271</td>\n",
       "      <td>38.617246</td>\n",
       "      <td>50.679885</td>\n",
       "    </tr>\n",
       "    <tr>\n",
       "      <th>5875</th>\n",
       "      <td>-0.000197</td>\n",
       "      <td>-0.000074</td>\n",
       "      <td>0.000014</td>\n",
       "      <td>-0.000008</td>\n",
       "      <td>-0.000005</td>\n",
       "      <td>0.000059</td>\n",
       "      <td>-0.000200</td>\n",
       "      <td>-0.000095</td>\n",
       "      <td>-0.000279</td>\n",
       "      <td>0.000103</td>\n",
       "      <td>...</td>\n",
       "      <td>0.000052</td>\n",
       "      <td>0.000067</td>\n",
       "      <td>0.000080</td>\n",
       "      <td>0.000145</td>\n",
       "      <td>21752</td>\n",
       "      <td>66.532630</td>\n",
       "      <td>59.844808</td>\n",
       "      <td>72.303110</td>\n",
       "      <td>55.458281</td>\n",
       "      <td>46.870235</td>\n",
       "    </tr>\n",
       "    <tr>\n",
       "      <th>5876</th>\n",
       "      <td>0.000075</td>\n",
       "      <td>0.000192</td>\n",
       "      <td>-0.000035</td>\n",
       "      <td>-0.000169</td>\n",
       "      <td>-0.000089</td>\n",
       "      <td>-0.000138</td>\n",
       "      <td>0.000076</td>\n",
       "      <td>0.000130</td>\n",
       "      <td>-0.000122</td>\n",
       "      <td>-0.000044</td>\n",
       "      <td>...</td>\n",
       "      <td>-0.000099</td>\n",
       "      <td>-0.000207</td>\n",
       "      <td>0.000061</td>\n",
       "      <td>-0.000028</td>\n",
       "      <td>21754</td>\n",
       "      <td>68.820928</td>\n",
       "      <td>56.594193</td>\n",
       "      <td>34.605868</td>\n",
       "      <td>49.922535</td>\n",
       "      <td>50.383078</td>\n",
       "    </tr>\n",
       "  </tbody>\n",
       "</table>\n",
       "<p>5434 rows × 59 columns</p>\n",
       "</div>"
      ],
      "text/plain": [
       "      degree_2  degree_3  degree_4  degree_5  degree_7  degree_8  degree_9  \\\n",
       "0     0.000070 -0.000046 -0.000217 -0.000118 -0.000197 -0.000091  0.000096   \n",
       "1    -0.000257 -0.000009 -0.000175  0.000199  0.000084  0.000134 -0.000072   \n",
       "2    -0.000057  0.000065 -0.000122 -0.000023  0.000014  0.000042  0.000049   \n",
       "4    -0.000331 -0.000374 -0.000012  0.000049  0.000066  0.000109 -0.000340   \n",
       "5    -0.000174 -0.000104 -0.000090 -0.000171 -0.000049 -0.000150 -0.000080   \n",
       "...        ...       ...       ...       ...       ...       ...       ...   \n",
       "5872 -0.000048 -0.000064 -0.000045 -0.000143 -0.000180 -0.000113 -0.000091   \n",
       "5873 -0.000101 -0.000044 -0.000148 -0.000073 -0.000072 -0.000194 -0.000014   \n",
       "5874 -0.000151 -0.000253 -0.000120 -0.000117 -0.000152 -0.000071 -0.000201   \n",
       "5875 -0.000197 -0.000074  0.000014 -0.000008 -0.000005  0.000059 -0.000200   \n",
       "5876  0.000075  0.000192 -0.000035 -0.000169 -0.000089 -0.000138  0.000076   \n",
       "\n",
       "      degree_11  degree_12  degree_13  ...  degree_94  degree_96  degree_98  \\\n",
       "0      0.000004  -0.000048   0.000125  ...  -0.000186  -0.000152  -0.000071   \n",
       "1     -0.000143   0.000240   0.000062  ...  -0.000347  -0.000320   0.000057   \n",
       "2      0.000059   0.000034  -0.000015  ...  -0.000187  -0.000196  -0.000017   \n",
       "4     -0.000405   0.000026   0.000131  ...  -0.000157   0.000045   0.000088   \n",
       "5     -0.000061  -0.000141  -0.000064  ...  -0.000123  -0.000083  -0.000118   \n",
       "...         ...        ...        ...  ...        ...        ...        ...   \n",
       "5872  -0.000039  -0.000017  -0.000011  ...  -0.000130  -0.000135  -0.000003   \n",
       "5873  -0.000075  -0.000073  -0.000102  ...  -0.000029   0.000009  -0.000114   \n",
       "5874  -0.000251  -0.000012   0.000047  ...  -0.000099  -0.000140  -0.000111   \n",
       "5875  -0.000095  -0.000279   0.000103  ...   0.000052   0.000067   0.000080   \n",
       "5876   0.000130  -0.000122  -0.000044  ...  -0.000099  -0.000207   0.000061   \n",
       "\n",
       "      degree_99     Id        age  domain1_var1  domain1_var2  domain2_var1  \\\n",
       "0     -0.000038  10001  57.436077     30.571975     62.553736     53.325130   \n",
       "1      0.000134  10002  59.580851     50.969456     67.470628     60.651856   \n",
       "2      0.000028  10004  71.413018     53.152498     58.012103     52.418389   \n",
       "4      0.000028  10007  38.617381     49.197021     65.674285     40.151376   \n",
       "5     -0.000008  10008  35.326582     15.769168     65.782269     44.643805   \n",
       "...         ...    ...        ...           ...           ...           ...   \n",
       "5872   0.000016  21746  14.257265     21.358872     61.165998     51.778483   \n",
       "5873  -0.000151  21747  55.456978     68.169675     29.907995     55.349257   \n",
       "5874   0.000064  21750  48.948756     55.114811     60.878271     38.617246   \n",
       "5875   0.000145  21752  66.532630     59.844808     72.303110     55.458281   \n",
       "5876  -0.000028  21754  68.820928     56.594193     34.605868     49.922535   \n",
       "\n",
       "      domain2_var2  \n",
       "0        51.427998  \n",
       "1        58.311361  \n",
       "2        62.536641  \n",
       "4        34.096421  \n",
       "5        50.448485  \n",
       "...            ...  \n",
       "5872     54.640179  \n",
       "5873     54.019517  \n",
       "5874     50.679885  \n",
       "5875     46.870235  \n",
       "5876     50.383078  \n",
       "\n",
       "[5434 rows x 59 columns]"
      ]
     },
     "execution_count": 37,
     "metadata": {},
     "output_type": "execute_result"
    }
   ],
   "source": [
    "data[fe]"
   ]
  },
  {
   "cell_type": "code",
   "execution_count": null,
   "metadata": {},
   "outputs": [],
   "source": [
    "deg_train = np.asarray(data.drop('Id', axis=1))"
   ]
  },
  {
   "cell_type": "code",
   "execution_count": null,
   "metadata": {},
   "outputs": [],
   "source": []
  },
  {
   "cell_type": "code",
   "execution_count": null,
   "metadata": {},
   "outputs": [],
   "source": []
  },
  {
   "cell_type": "code",
   "execution_count": 11,
   "metadata": {},
   "outputs": [],
   "source": [
    "import re\n",
    "from tqdm import tqdm"
   ]
  },
  {
   "cell_type": "code",
   "execution_count": 12,
   "metadata": {},
   "outputs": [],
   "source": [
    "idxs = []\n",
    "r = re.compile('\\d+')\n",
    "col_dict = {}\n",
    "for col in fnc.columns:\n",
    "    ind = r.findall(col)\n",
    "    if ind:\n",
    "        col_dict[col] = [int(i) for i in ind]\n",
    "        idxs += ind"
   ]
  },
  {
   "cell_type": "code",
   "execution_count": 13,
   "metadata": {},
   "outputs": [],
   "source": [
    "matrix = np.zeros((100, 100))"
   ]
  },
  {
   "cell_type": "code",
   "execution_count": 14,
   "metadata": {},
   "outputs": [
    {
     "name": "stderr",
     "output_type": "stream",
     "text": [
      "0it [00:00, ?it/s]\n"
     ]
    }
   ],
   "source": [
    "for row in tqdm(fnc.iterrows()):\n",
    "    break"
   ]
  },
  {
   "cell_type": "code",
   "execution_count": 15,
   "metadata": {},
   "outputs": [],
   "source": [
    "df_row = row[1]"
   ]
  },
  {
   "cell_type": "code",
   "execution_count": 16,
   "metadata": {},
   "outputs": [
    {
     "data": {
      "text/plain": [
       "Id                    10001.000000\n",
       "SCN(53)_vs_SCN(69)        0.368580\n",
       "SCN(98)_vs_SCN(69)        0.166876\n",
       "SCN(99)_vs_SCN(69)        0.438148\n",
       "SCN(45)_vs_SCN(69)        0.341007\n",
       "                          ...     \n",
       "CBN(4)_vs_CBN(13)        -0.042853\n",
       "CBN(7)_vs_CBN(13)         0.124627\n",
       "CBN(4)_vs_CBN(18)        -0.060712\n",
       "CBN(7)_vs_CBN(18)         0.515964\n",
       "CBN(7)_vs_CBN(4)          0.290488\n",
       "Name: 0, Length: 1379, dtype: float64"
      ]
     },
     "execution_count": 16,
     "metadata": {},
     "output_type": "execute_result"
    }
   ],
   "source": [
    "df_row"
   ]
  },
  {
   "cell_type": "code",
   "execution_count": 17,
   "metadata": {},
   "outputs": [],
   "source": [
    "i, j = col_dict[col]"
   ]
  },
  {
   "cell_type": "code",
   "execution_count": 18,
   "metadata": {},
   "outputs": [
    {
     "data": {
      "text/plain": [
       "(7, 4)"
      ]
     },
     "execution_count": 18,
     "metadata": {},
     "output_type": "execute_result"
    }
   ],
   "source": [
    "i, j"
   ]
  },
  {
   "cell_type": "code",
   "execution_count": 19,
   "metadata": {},
   "outputs": [],
   "source": [
    "matrix[i, j] = df_row[col]"
   ]
  },
  {
   "cell_type": "code",
   "execution_count": 20,
   "metadata": {},
   "outputs": [],
   "source": [
    "matrix += matrix.T"
   ]
  },
  {
   "cell_type": "code",
   "execution_count": null,
   "metadata": {},
   "outputs": [],
   "source": []
  },
  {
   "cell_type": "code",
   "execution_count": 21,
   "metadata": {},
   "outputs": [],
   "source": [
    "def get_matrix(df_row, return_idx=False):\n",
    "    matrix = np.zeros((100, 100))\n",
    "    for col in df_row.index[1:]:\n",
    "        i, j = col_dict[col]\n",
    "        matrix[i, j] = df_row[col]\n",
    "    matrix += matrix.T\n",
    "    \n",
    "    idx = np.array([ 2,  3,  4,  5,  7,  8,  9, 11, 12, 13, 15, 16, 17, 18, 20, 21, 23,\n",
    "                     27, 32, 33, 37, 38, 40, 43, 45, 48, 51, 53, 54, 55, 56, 61, 62, 63,\n",
    "                     66, 67, 68, 69, 70, 71, 72, 77, 79, 80, 81, 83, 84, 88, 93, 94, 96,\n",
    "                     98, 99])\n",
    "    if return_idx:\n",
    "        return matrix[:, idx][idx, :], idx \n",
    "    return matrix[:, idx][idx, :]"
   ]
  },
  {
   "cell_type": "code",
   "execution_count": 22,
   "metadata": {},
   "outputs": [
    {
     "name": "stderr",
     "output_type": "stream",
     "text": [
      "11754it [02:50, 68.95it/s]\n"
     ]
    }
   ],
   "source": [
    "degrees = []\n",
    "for row in tqdm(fnc.iterrows()):\n",
    "    mat = get_matrix(row[1])\n",
    "    degrees.append(mat.sum(axis=1))"
   ]
  },
  {
   "cell_type": "code",
   "execution_count": 23,
   "metadata": {},
   "outputs": [],
   "source": [
    "_, idx = get_matrix(fnc.iloc[0], return_idx=True)\n",
    "degrees = pd.DataFrame(degrees, columns=idx)\n",
    "degrees['Id'] = fnc['Id']"
   ]
  },
  {
   "cell_type": "code",
   "execution_count": 30,
   "metadata": {},
   "outputs": [],
   "source": [
    "degrees_columns = degrees.columns[:-1]"
   ]
  },
  {
   "cell_type": "code",
   "execution_count": 32,
   "metadata": {},
   "outputs": [],
   "source": [
    "degrees.columns = [f'degree_{f}' for f in degrees_columns] + ['Id']"
   ]
  },
  {
   "cell_type": "code",
   "execution_count": 34,
   "metadata": {},
   "outputs": [],
   "source": [
    "degrees.to_csv('../input/degree.csv', index=False)"
   ]
  },
  {
   "cell_type": "code",
   "execution_count": null,
   "metadata": {},
   "outputs": [],
   "source": []
  },
  {
   "cell_type": "code",
   "execution_count": null,
   "metadata": {},
   "outputs": [],
   "source": []
  },
  {
   "cell_type": "code",
   "execution_count": null,
   "metadata": {},
   "outputs": [],
   "source": []
  },
  {
   "cell_type": "code",
   "execution_count": null,
   "metadata": {},
   "outputs": [],
   "source": []
  },
  {
   "cell_type": "code",
   "execution_count": null,
   "metadata": {},
   "outputs": [],
   "source": []
  }
 ],
 "metadata": {
  "kernelspec": {
   "display_name": "lyh",
   "language": "python",
   "name": "lyh"
  },
  "language_info": {
   "codemirror_mode": {
    "name": "ipython",
    "version": 3
   },
   "file_extension": ".py",
   "mimetype": "text/x-python",
   "name": "python",
   "nbconvert_exporter": "python",
   "pygments_lexer": "ipython3",
   "version": "3.7.7"
  }
 },
 "nbformat": 4,
 "nbformat_minor": 2
}
